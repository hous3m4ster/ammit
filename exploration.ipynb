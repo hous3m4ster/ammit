{
 "cells": [
  {
   "cell_type": "markdown",
   "source": [
    "# Some insights about the data\n",
    "\n",
    "To build an application capable of usefully visualizing the provided data, first we need to understand how it works. In this notebook, we'll attempt to do some rough data visualization, cleaning. Then we'll attempt to build a useful graph with it. Following that, we'll attempt to verify the assumptions made about the first file, using a second CSV file.\n",
    "\n"
   ],
   "metadata": {
    "collapsed": false
   }
  },
  {
   "cell_type": "code",
   "execution_count": null,
   "metadata": {
    "collapsed": true
   },
   "outputs": [],
   "source": [
    "import numpy as np\n",
    "import pandas as pd\n",
    "import matplotlib.pyplot as plt\n",
    "\n",
    "import plotly.express as px"
   ]
  },
  {
   "cell_type": "markdown",
   "source": [
    "<font color=\"red\">The provided example .csv file appears to have been anonymized by removing the name row. This would confuse current implementation row-number wise when production version does not have this anomaly, so verify this!</font>\n",
    "<a id=\"#concern_one\"></a>"
   ],
   "metadata": {
    "collapsed": false
   }
  },
  {
   "cell_type": "code",
   "execution_count": null,
   "outputs": [],
   "source": [
    "raw_df = pd.read_csv(\"validation_data/HART.csv\", delimiter=\",\", header=None)\n",
    "raw_df.head(15)"
   ],
   "metadata": {
    "collapsed": false,
    "pycharm": {
     "name": "#%%\n"
    }
   }
  },
  {
   "cell_type": "markdown",
   "source": [
    "Lines 0 up to and including 5 contain general information about the measurements. Lines 6 and 7 are blank lines. 8 and below belong to the actual measurements. It might be useful to split these 2 into 2 separate dataframes:"
   ],
   "metadata": {
    "collapsed": false
   }
  },
  {
   "cell_type": "code",
   "execution_count": null,
   "outputs": [],
   "source": [
    "information_df = raw_df.loc[:5, :2]\n",
    "information_df.set_index(0, inplace=True)\n",
    "information_df"
   ],
   "metadata": {
    "collapsed": false,
    "pycharm": {
     "name": "#%%\n"
    }
   }
  },
  {
   "cell_type": "markdown",
   "source": [
    "<font color=\"red\">Row 10 is currently not included because it's NaN in provided file. Make sure that's the case in all files before actual deployment</font>\n",
    "\n",
    "Currently, the subject expertise for what these things mean exactly is lacking to say the least. Would require more insight for actual deployment version."
   ],
   "metadata": {
    "collapsed": false
   }
  },
  {
   "cell_type": "code",
   "execution_count": null,
   "outputs": [],
   "source": [
    "measurement_df = pd.DataFrame(\n",
    "    raw_df.loc[11:, :1].copy()\n",
    ")\n",
    "\n",
    "# Cannot change columns directly in DataFrame construction because data already contains columns.\n",
    "# Could probably be done more elegantly then with a zip but I have a fever so fuck it.\n",
    "measurement_df.columns = [f\"{name}({unit})\" for name, unit in zip(raw_df.loc[8, :1], raw_df.loc[9, :1])]\n",
    "measurement_df.reset_index(drop=True, inplace=True)\n",
    "measurement_df"
   ],
   "metadata": {
    "collapsed": false,
    "pycharm": {
     "name": "#%%\n"
    }
   }
  },
  {
   "cell_type": "markdown",
   "source": [
    "It appears as though we've isolated the required numeric data in a separate pd.DataFrame. Now to have a look at the datatypes, considering Pandas most probably interpreted the columns in question as strings when reading the entire file at once, considering the confusing first 10 lines of the file."
   ],
   "metadata": {
    "collapsed": false
   }
  },
  {
   "cell_type": "code",
   "execution_count": null,
   "outputs": [],
   "source": [
    "measurement_df.dtypes"
   ],
   "metadata": {
    "collapsed": false,
    "pycharm": {
     "name": "#%%\n"
    }
   }
  },
  {
   "cell_type": "markdown",
   "source": [
    "That's not quite right, yet fixable."
   ],
   "metadata": {
    "collapsed": false
   }
  },
  {
   "cell_type": "code",
   "execution_count": null,
   "outputs": [],
   "source": [
    "measurement_df = measurement_df.apply(pd.to_numeric, axis=1)\n",
    "measurement_df.head(5)"
   ],
   "metadata": {
    "collapsed": false,
    "pycharm": {
     "name": "#%%\n"
    }
   }
  },
  {
   "cell_type": "code",
   "execution_count": null,
   "outputs": [],
   "source": [
    "measurement_df.dtypes"
   ],
   "metadata": {
    "collapsed": false,
    "pycharm": {
     "name": "#%%\n"
    }
   }
  },
  {
   "cell_type": "markdown",
   "source": [
    "The datatypes are alright. Might also be useful that there are no NaN values."
   ],
   "metadata": {
    "collapsed": false
   }
  },
  {
   "cell_type": "code",
   "execution_count": null,
   "outputs": [],
   "source": [
    "measurement_df.isna().any()"
   ],
   "metadata": {
    "collapsed": false,
    "pycharm": {
     "name": "#%%\n"
    }
   }
  },
  {
   "cell_type": "markdown",
   "source": [
    "It appears as though the second column contains NaN values. How many does it?"
   ],
   "metadata": {
    "collapsed": false
   }
  },
  {
   "cell_type": "code",
   "execution_count": null,
   "outputs": [],
   "source": [
    "f\"{(measurement_df['Afleiding I(µV)'].isna().sum() / measurement_df.shape[0]) * 100}% of Afleiding I(µV) is NaN\""
   ],
   "metadata": {
    "collapsed": false,
    "pycharm": {
     "name": "#%%\n"
    }
   }
  },
  {
   "cell_type": "markdown",
   "source": [
    "We'll attempt to visualize the timeframe where NaN values occur in the column:"
   ],
   "metadata": {
    "collapsed": false
   }
  },
  {
   "cell_type": "code",
   "execution_count": null,
   "outputs": [],
   "source": [
    "col2nd_nans = pd.to_numeric(measurement_df[\"Afleiding I(µV)\"].isna())"
   ],
   "metadata": {
    "collapsed": false,
    "pycharm": {
     "name": "#%%\n"
    }
   }
  },
  {
   "cell_type": "code",
   "execution_count": null,
   "outputs": [],
   "source": [
    "_, ax = plt.subplots()\n",
    "ax.plot(col2nd_nans)\n",
    "ax.set_xlabel(\"Measurement\")\n",
    "ax.set_ylabel(\"Presence of NaN-value\")\n",
    "ax.set_yticks([0, 1])\n",
    "ax.set_yticklabels([\"No\", \"Yes\"])"
   ],
   "metadata": {
    "collapsed": false,
    "pycharm": {
     "name": "#%%\n"
    }
   }
  },
  {
   "cell_type": "markdown",
   "source": [
    "On the surface level, they seem to be distributed without any clear logic to them.\n",
    "\n",
    "Before we investigate this further, it might be useful to visually examine what both columns act"
   ],
   "metadata": {
    "collapsed": false
   }
  },
  {
   "cell_type": "code",
   "execution_count": null,
   "outputs": [],
   "source": [
    "comparison_df = measurement_df.iloc[:1000]"
   ],
   "metadata": {
    "collapsed": false,
    "pycharm": {
     "name": "#%%\n"
    }
   }
  },
  {
   "cell_type": "code",
   "execution_count": null,
   "outputs": [],
   "source": [
    "comparison_df"
   ],
   "metadata": {
    "collapsed": false,
    "pycharm": {
     "name": "#%%\n"
    }
   }
  },
  {
   "cell_type": "code",
   "execution_count": null,
   "outputs": [],
   "source": [
    "fig, axes = plt.subplots(comparison_df.shape[1], 1)\n",
    "fig.subplots_adjust(hspace=1)\n",
    "\n",
    "for i, col in enumerate(comparison_df.columns):\n",
    "    axes[i].plot(comparison_df[col], c=\"r\")\n",
    "    axes[i].set_xlabel(\"Observation number\")\n",
    "    axes[i].set_ylabel(\"Value\")\n",
    "    axes[i].set_title(f\"Value against time for {col}\")\n"
   ],
   "metadata": {
    "collapsed": false,
    "pycharm": {
     "name": "#%%\n"
    }
   }
  },
  {
   "cell_type": "markdown",
   "source": [
    "Product owner has expressed the desire to specifically visualize the top graph, so we won't investigate the bottom column further.\n",
    "\n",
    "### Fixing timescale\n",
    "\n",
    "The dataset contains measurements at a set frequency. That means we can use this frequency to add a time measurements column, so that graphs can have their actual time since the start of the recording on the x-axis.\n",
    "\n",
    "The information dataframe contains the following information on measurements frequencies:"
   ],
   "metadata": {
    "collapsed": false
   }
  },
  {
   "cell_type": "code",
   "execution_count": null,
   "outputs": [],
   "source": [
    "information_df.loc[\"Meetfrequentie\"]"
   ],
   "metadata": {
    "collapsed": false,
    "pycharm": {
     "name": "#%%\n"
    }
   }
  },
  {
   "cell_type": "markdown",
   "source": [
    "_511_ and _023_ hertz...\n",
    "\n",
    "Considering we saw 3 heart beats in the earlier graph, in the first 1000 measurements. 23 hertz wouldn't make sense, because we know the patient was not in a medical crisis where:\n",
    "\n",
    "$$ T = \\frac{\\textup{1000 measurements}}{\\textup{3 heartbeats}} = 333 \\frac{1}{3}\\textup{ frames per heartbeat} $$\n",
    "\n",
    "which with a frequency of 23 Herz translates to\n",
    "\n",
    "$$ \\frac{333\\frac{1}{3}\\textup{ frames per heartbeat}}{23\\textup{ Hertz}} \\approx 14.5\\textup{ s per heartbeat} $$\n"
   ],
   "metadata": {
    "collapsed": false
   }
  },
  {
   "cell_type": "code",
   "execution_count": null,
   "outputs": [],
   "source": [
    "measurement_df[\"Time\"] = measurement_df.index / int(information_df.loc[\"Meetfrequentie\", 1])\n",
    "measurement_df"
   ],
   "metadata": {
    "collapsed": false,
    "pycharm": {
     "name": "#%%\n"
    }
   }
  },
  {
   "cell_type": "markdown",
   "source": [
    "### Attempting to make a graph"
   ],
   "metadata": {
    "collapsed": false
   }
  },
  {
   "cell_type": "code",
   "execution_count": null,
   "outputs": [],
   "source": [
    "fig = px.line(\n",
    "    measurement_df,\n",
    "    x=\"Time\",\n",
    "    y=\"Afleiding(Eenheid)\",\n",
    "    title=\"Personal device ECG measurements over time\",\n",
    "    labels={\n",
    "        \"Time\": \"Seconds since start\",\n",
    "        \"Afleiding(Eenheid)\": \"Measurement amplitude (unit unknown)\"\n",
    "    }\n",
    ")"
   ],
   "metadata": {
    "collapsed": false,
    "pycharm": {
     "name": "#%%\n"
    }
   }
  },
  {
   "cell_type": "code",
   "execution_count": null,
   "outputs": [],
   "source": [
    "# Very slow, improve!\n",
    "major_x_line_interval = .2\n",
    "major_x_line_pos = np.arange(0, np.max(measurement_df[\"Time\"]), major_x_line_interval)\n",
    "\n",
    "np.vectorize(lambda x: fig.add_vline(x, line_color=\"rgba(255, 0, 0, 0.5)\", line_width=.9))(major_x_line_pos)\n",
    "None"
   ],
   "metadata": {
    "collapsed": false,
    "pycharm": {
     "name": "#%%\n"
    }
   }
  },
  {
   "cell_type": "code",
   "execution_count": null,
   "outputs": [],
   "source": [
    "# This just takes an inordinate amount of time, should probably not include these, and have a button that makes a matplotlib figure for a certain specified area.\n",
    "# minor_x_line_interval = .04\n",
    "# minor_x_line_pos = np.arange(0, np.max(measurement_df[\"Time\"]), minor_x_line_interval)\n",
    "\n",
    "# np.vectorize(lambda x: fig.add_vline(x, line_color=\"rgba(255, 0, 0, 0.8)\", line_width=.3))(minor_x_line_pos)\n",
    "# None"
   ],
   "metadata": {
    "collapsed": false,
    "pycharm": {
     "name": "#%%\n"
    }
   }
  },
  {
   "cell_type": "code",
   "execution_count": null,
   "outputs": [],
   "source": [
    "fig.update_traces(line_color=\"#000000\", line_width=1)\n",
    "fig.update_layout(xaxis_rangeslider_visible=True, xaxis_range=[0, 2])"
   ],
   "metadata": {
    "collapsed": false,
    "pycharm": {
     "name": "#%%\n"
    }
   }
  },
  {
   "cell_type": "markdown",
   "source": [
    "## Validating row numbers\n",
    "\n",
    "[As noted before](#concern_one) the row numbers of the CSV might be unsure, and should be validated. For that purpose, a second CSV file has been provided."
   ],
   "metadata": {
    "collapsed": false
   }
  },
  {
   "cell_type": "code",
   "execution_count": null,
   "outputs": [],
   "source": [
    "raw_df_2 = pd.read_csv(\"validation_data/VOORBEELD2.csv\", delimiter=\",\", header=None)\n",
    "raw_df_2.head(15)"
   ],
   "metadata": {
    "collapsed": false,
    "pycharm": {
     "name": "#%%\n"
    }
   }
  },
  {
   "cell_type": "markdown",
   "source": [
    "The information portion of the CSV does appear to be 2 rows longer, like expected. This means the actual measurement data, and it's headers, start 2 rows lower as well. This should be taken into account when modifying the data for use in a graph."
   ],
   "metadata": {
    "collapsed": false,
    "pycharm": {
     "name": "#%% md\n"
    }
   }
  }
 ],
 "metadata": {
  "kernelspec": {
   "display_name": "Python 3",
   "language": "python",
   "name": "python3"
  },
  "language_info": {
   "codemirror_mode": {
    "name": "ipython",
    "version": 2
   },
   "file_extension": ".py",
   "mimetype": "text/x-python",
   "name": "python",
   "nbconvert_exporter": "python",
   "pygments_lexer": "ipython2",
   "version": "2.7.6"
  }
 },
 "nbformat": 4,
 "nbformat_minor": 0
}